{
  "nbformat": 4,
  "nbformat_minor": 0,
  "metadata": {
    "colab": {
      "provenance": [],
      "authorship_tag": "ABX9TyNryw9HR0cz3jIeS7S0jTKu",
      "include_colab_link": true
    },
    "kernelspec": {
      "name": "python3",
      "display_name": "Python 3"
    },
    "language_info": {
      "name": "python"
    }
  },
  "cells": [
    {
      "cell_type": "markdown",
      "metadata": {
        "id": "view-in-github",
        "colab_type": "text"
      },
      "source": [
        "<a href=\"https://colab.research.google.com/github/eridanletalis/gb_python_2/blob/main/hw_1_2.ipynb\" target=\"_parent\"><img src=\"https://colab.research.google.com/assets/colab-badge.svg\" alt=\"Open In Colab\"/></a>"
      ]
    },
    {
      "cell_type": "code",
      "execution_count": 1,
      "metadata": {
        "colab": {
          "base_uri": "https://localhost:8080/"
        },
        "id": "lFxMAEt45ZLr",
        "outputId": "2dc106d2-282f-461e-ea91-4821e2f4b7b4"
      },
      "outputs": [
        {
          "output_type": "stream",
          "name": "stdout",
          "text": [
            "n = 5\n",
            "1\n",
            "0\n",
            "1\n",
            "1\n",
            "0\n",
            "2\n"
          ]
        }
      ],
      "source": [
        "# HW 2.1\n",
        "# 7\n",
        "# 0 1 1 0 0 0 0 -> 2\n",
        "# 1 0 0 1 1 1 1 -> 2\n",
        "# 1 1 1 0 0 0 0 -> 3\n",
        "# 1 0 0 0 1 1 1 -> 3\n",
        "\n",
        "# 6\n",
        "# 1 1 0 0 0 0 -> 2\n",
        "# 0 0 1 1 1 1 -> 2\n",
        "# 0 0 0 1 1 1 -> 3\n",
        "\n",
        "n = int(input('n = '))\n",
        "s = 0\n",
        "for i in range(0, n):\n",
        "    s += int(input())\n",
        "\n",
        "if n - s > n // 2:\n",
        "    print(s)\n",
        "else:\n",
        "    print(n - s)\n",
        "\n",
        "\n"
      ]
    },
    {
      "cell_type": "code",
      "source": [
        "# HW 2.2\n",
        "\n",
        "\n",
        "s = int(input('S = '))\n",
        "p = int(input('P = '))\n",
        "\n",
        "# Предусмотрели вариант, когда задаём большую сумму\n",
        "if p >= 1000:\n",
        "    x = 1000\n",
        "else:\n",
        "    x = p\n",
        "y = p - x\n",
        "\n",
        "while int(x * y) != s or int(x + y) != p:\n",
        "    x -= 1\n",
        "    y = p - x\n",
        "    if x > 1000 or y > 1000 or x < 0 or y < 0:\n",
        "        break\n",
        "\n",
        "if int(x * y) == s and int(x + y) == p:\n",
        "    print(f'X = {x}. Y = {y}')\n",
        "else:\n",
        "    print('Решения нет')\n",
        "\n",
        "\n"
      ],
      "metadata": {
        "colab": {
          "base_uri": "https://localhost:8080/"
        },
        "id": "vW0KQIIH5pOD",
        "outputId": "3a2d6d74-b035-4a11-9f65-6894b4bcfd28"
      },
      "execution_count": 3,
      "outputs": [
        {
          "output_type": "stream",
          "name": "stdout",
          "text": [
            "S = 452046\n",
            "P = 1445\n",
            "X = 987. Y = 458\n"
          ]
        }
      ]
    },
    {
      "cell_type": "code",
      "source": [
        "# HW 2.3\n",
        "\n",
        "n = int(input('N = '))\n",
        "k = 0\n",
        "while 2 ** k <= n:\n",
        "    print(2 ** k)\n",
        "    k += 1"
      ],
      "metadata": {
        "colab": {
          "base_uri": "https://localhost:8080/"
        },
        "id": "GQgkZZkQ50sr",
        "outputId": "e5a1d8a9-87b4-4437-fc40-5f472a9f4baa"
      },
      "execution_count": 5,
      "outputs": [
        {
          "output_type": "stream",
          "name": "stdout",
          "text": [
            "N = 8753\n",
            "1\n",
            "2\n",
            "4\n",
            "8\n",
            "16\n",
            "32\n",
            "64\n",
            "128\n",
            "256\n",
            "512\n",
            "1024\n",
            "2048\n",
            "4096\n",
            "8192\n"
          ]
        }
      ]
    }
  ]
}
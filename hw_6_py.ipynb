{
  "nbformat": 4,
  "nbformat_minor": 0,
  "metadata": {
    "colab": {
      "provenance": [],
      "authorship_tag": "ABX9TyNMscc9bZUuB0T9X986BcsY",
      "include_colab_link": true
    },
    "kernelspec": {
      "name": "python3",
      "display_name": "Python 3"
    },
    "language_info": {
      "name": "python"
    }
  },
  "cells": [
    {
      "cell_type": "markdown",
      "metadata": {
        "id": "view-in-github",
        "colab_type": "text"
      },
      "source": [
        "<a href=\"https://colab.research.google.com/github/eridanletalis/gb_python_2/blob/main/hw_6_py.ipynb\" target=\"_parent\"><img src=\"https://colab.research.google.com/assets/colab-badge.svg\" alt=\"Open In Colab\"/></a>"
      ]
    },
    {
      "cell_type": "markdown",
      "source": [
        "<h2>Урок 6. Повторение списков</h2>"
      ],
      "metadata": {
        "id": "8VrWCwJSEm9P"
      }
    },
    {
      "cell_type": "markdown",
      "source": [
        "Задача 30:  Заполните массив элементами арифметической прогрессии. Её первый элемент, разность и количество элементов нужно ввести с клавиатуры. Формула для получения n-го члена прогрессии: an = a1 + (n-1) * d.\n",
        "Каждое число вводится с новой строки.\n"
      ],
      "metadata": {
        "id": "m-XNVmiGEnAV"
      }
    },
    {
      "cell_type": "code",
      "execution_count": 3,
      "metadata": {
        "colab": {
          "base_uri": "https://localhost:8080/"
        },
        "id": "6cRGpu3dEiVF",
        "outputId": "3354171d-0035-4549-cdf3-7525db82bff2"
      },
      "outputs": [
        {
          "name": "stdout",
          "output_type": "stream",
          "text": [
            "a1 = 7\n",
            "D = 2\n",
            "N = 5\n"
          ]
        },
        {
          "output_type": "execute_result",
          "data": {
            "text/plain": [
              "[7, 9, 11, 13, 15]"
            ]
          },
          "metadata": {},
          "execution_count": 3
        }
      ],
      "source": [
        "a1 = int(input('a1 = '))\n",
        "d = int(input('D = '))\n",
        "N = int(input('N = '))\n",
        "\n",
        "A = [a1 + (n - 1) * d for n in range(1, N + 1)]\n",
        "A"
      ]
    },
    {
      "cell_type": "code",
      "source": [
        "a1 = int(input('a1 = '))\n",
        "d = int(input('D = '))\n",
        "N = int(input('N = '))\n",
        "\n",
        "A = [a1 + (n - 1) * d for n in range(1, N + 1)]\n",
        "A"
      ],
      "metadata": {
        "colab": {
          "base_uri": "https://localhost:8080/"
        },
        "id": "ugMqCnJ6F6F3",
        "outputId": "14b40e19-fc93-40a4-f922-08795ea3ba7a"
      },
      "execution_count": 5,
      "outputs": [
        {
          "name": "stdout",
          "output_type": "stream",
          "text": [
            "a1 = 42\n",
            "D = -2\n",
            "N = 20\n"
          ]
        },
        {
          "output_type": "execute_result",
          "data": {
            "text/plain": [
              "[42, 40, 38, 36, 34, 32, 30, 28, 26, 24, 22, 20, 18, 16, 14, 12, 10, 8, 6, 4]"
            ]
          },
          "metadata": {},
          "execution_count": 5
        }
      ]
    },
    {
      "cell_type": "markdown",
      "source": [
        "Задача 32: Определить индексы элементов массива (списка), значения которых принадлежат заданному диапазону (т.е. не меньше заданного минимума и не больше заданного максимума)\n",
        "\n",
        "Вход - мнимум  максимум [список]"
      ],
      "metadata": {
        "id": "NSaoHaFSExBb"
      }
    },
    {
      "cell_type": "code",
      "source": [
        "min = int(input('Min = '))\n",
        "max = int(input('Max = '))\n",
        "numbers = list(map(int, input('Numbers, e.g 1 2 3 4 5:').split()))"
      ],
      "metadata": {
        "colab": {
          "base_uri": "https://localhost:8080/"
        },
        "id": "Icaq1hdTHoJm",
        "outputId": "f7b6b0d2-57da-4c90-8442-c2e6e6225f28"
      },
      "execution_count": 8,
      "outputs": [
        {
          "name": "stdout",
          "output_type": "stream",
          "text": [
            "Min = -3\n",
            "Max = 5\n",
            "Numbers, e.g 1 2 3 4 5:-10 23 4 1 0 9 -4 -4 -2 1 5 -3\n"
          ]
        }
      ]
    },
    {
      "cell_type": "code",
      "source": [
        "numbers"
      ],
      "metadata": {
        "colab": {
          "base_uri": "https://localhost:8080/"
        },
        "id": "T6dNVb0NIG3i",
        "outputId": "70b7399e-f81a-46b1-9f57-fb94138d14ec"
      },
      "execution_count": 9,
      "outputs": [
        {
          "output_type": "execute_result",
          "data": {
            "text/plain": [
              "[-10, 23, 4, 1, 0, 9, -4, -4, -2, 1, 5, -3]"
            ]
          },
          "metadata": {},
          "execution_count": 9
        }
      ]
    },
    {
      "cell_type": "code",
      "source": [
        "result = [i for i,n in enumerate(numbers) if n >= min and n <= max]\n",
        "result\n"
      ],
      "metadata": {
        "colab": {
          "base_uri": "https://localhost:8080/"
        },
        "id": "3fRrPw49ITje",
        "outputId": "de0b950a-39b2-4263-b547-c0ece5bef62c"
      },
      "execution_count": 11,
      "outputs": [
        {
          "output_type": "execute_result",
          "data": {
            "text/plain": [
              "[2, 3, 4, 8, 9, 10, 11]"
            ]
          },
          "metadata": {},
          "execution_count": 11
        }
      ]
    }
  ]
}
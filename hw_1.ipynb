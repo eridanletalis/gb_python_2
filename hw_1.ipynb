{
  "nbformat": 4,
  "nbformat_minor": 0,
  "metadata": {
    "colab": {
      "provenance": [],
      "authorship_tag": "ABX9TyPFO5YQw9sS6We4ishiUaJA",
      "include_colab_link": true
    },
    "kernelspec": {
      "name": "python3",
      "display_name": "Python 3"
    },
    "language_info": {
      "name": "python"
    }
  },
  "cells": [
    {
      "cell_type": "markdown",
      "metadata": {
        "id": "view-in-github",
        "colab_type": "text"
      },
      "source": [
        "<a href=\"https://colab.research.google.com/github/eridanletalis/gb_python_2/blob/main/hw_1.ipynb\" target=\"_parent\"><img src=\"https://colab.research.google.com/assets/colab-badge.svg\" alt=\"Open In Colab\"/></a>"
      ]
    },
    {
      "cell_type": "markdown",
      "source": [
        "<h2> Задача 2 </h2>\n",
        "<p>\n",
        "На складе лежат разные фрукты в разном количестве.\n",
        "Нужно написать функцию, которая на вход принимает любое количество названий фруктов и их количество, а возвращает общее количество фруктов на складе\n",
        "</p>"
      ],
      "metadata": {
        "id": "Re55BEHbJdYK"
      }
    },
    {
      "cell_type": "code",
      "source": [
        "# Вариант со входным словарём\n",
        "def fruit_counts(fruits: dict={}) -> float:\n",
        "  \"\"\"\n",
        "  На вход следует передавать словарь, ключами которого являются названия\n",
        "  фруктов, значениями - количество. В качестве количества принимается число\n",
        "  Пример входного словаря\n",
        "\n",
        "  {'apple': 3, 'pineapple': 4, 'orange': 7}\n",
        "\n",
        "  Словарь не должен содержать никаких других данных, кроме допустимых.\n",
        "  Не проверяется соответствие ключа реальному названию фрукта. Если в \n",
        "  качестве значения будет передан тип, отличный от числа, будет выполнена \n",
        "  попытка преобразования в число, в случае неуспеха выведено предупреждение, \n",
        "  а запись проигнорирована.\n",
        "  Отрицательные числа не будут учитываться в подсчёте - запись будет \n",
        "  проигнорирована с предупреждением. \n",
        "  \"\"\"\n",
        "\n",
        "  cnt: float = 0.0\n",
        "\n",
        "  if len(fruits) == 0:\n",
        "    print(\"Warning! Input dict is empty\")\n",
        "    return cnt\n",
        "\n",
        "  for  fruit in fruits:\n",
        "    # Проверим на валидность ключа\n",
        "    if not isinstance(fruit, str):\n",
        "      print(f\"Warning! {fruit} isn't str\")\n",
        "      continue\n",
        "    # Проверим валидность переданного значения  \n",
        "    # if isinstance(fruits[fruit], int | float):\n",
        "    if isinstance(fruits[fruit], int) or \\\n",
        "       isinstance(fruits[fruit], float):\n",
        "      if fruits[fruit] < 0:  # Строго менше, т.к. ноль будет обработан нормально\n",
        "        print(f'Warning! Negative number detected for {fruit} \\\n",
        "        ({fruits[fruit]}) ')\n",
        "        continue\n",
        "      cnt += fruits[fruit]\n",
        "\n",
        "    else:\n",
        "      # print(f'Trying to convert value {fruits[fruit]} to float')\n",
        "      try:\n",
        "        cnt += float(fruits[fruit])\n",
        "      except ValueError:\n",
        "        print(f'Warning! Can not convert {fruits[fruit]} to float')\n",
        "        continue\n",
        "      \n",
        "  return cnt"
      ],
      "metadata": {
        "id": "oPyPDOQKOD9I"
      },
      "execution_count": 33,
      "outputs": []
    },
    {
      "cell_type": "code",
      "source": [
        "test_1 = {'apple': 3, 'pineapple': 4, 'orange': 7}\n",
        "test_2 = {'apple': 0, 'pineapple': 0, 'orange': 0}\n",
        "test_3 = {'apple': 'one', 'pineapple': 'two', 'orange': '7'}\n",
        "test_4 = {1: 'apple', 'pineapple': 4, 'orange': 7}\n",
        "test_5 = {'apple': -1, 'pineapple': -4, 'orange': 7}\n",
        "test_6 = {}\n"
      ],
      "metadata": {
        "id": "Zo4BTz5_O1Ni"
      },
      "execution_count": 1,
      "outputs": []
    },
    {
      "cell_type": "code",
      "source": [
        "fruit_counts(test_1)"
      ],
      "metadata": {
        "colab": {
          "base_uri": "https://localhost:8080/"
        },
        "id": "LZ7cRMJGTTA0",
        "outputId": "71195186-3d58-4079-ddef-250e55e768eb"
      },
      "execution_count": 11,
      "outputs": [
        {
          "output_type": "execute_result",
          "data": {
            "text/plain": [
              "14.0"
            ]
          },
          "metadata": {},
          "execution_count": 11
        }
      ]
    },
    {
      "cell_type": "code",
      "source": [
        "fruit_counts(test_2)"
      ],
      "metadata": {
        "colab": {
          "base_uri": "https://localhost:8080/"
        },
        "id": "XZ-yXjmKX2sh",
        "outputId": "f60d8c5a-7559-4c7c-8c26-2135402dca78"
      },
      "execution_count": 12,
      "outputs": [
        {
          "output_type": "execute_result",
          "data": {
            "text/plain": [
              "0.0"
            ]
          },
          "metadata": {},
          "execution_count": 12
        }
      ]
    },
    {
      "cell_type": "code",
      "source": [
        "fruit_counts(test_3)"
      ],
      "metadata": {
        "colab": {
          "base_uri": "https://localhost:8080/"
        },
        "id": "EFR22RoJX4qQ",
        "outputId": "9ead35f2-c6e7-48c3-9318-f044d0dc3adc"
      },
      "execution_count": 18,
      "outputs": [
        {
          "output_type": "stream",
          "name": "stdout",
          "text": [
            "Warning! Can not convert one to float\n",
            "Warning! Can not convert two to float\n"
          ]
        },
        {
          "output_type": "execute_result",
          "data": {
            "text/plain": [
              "7.0"
            ]
          },
          "metadata": {},
          "execution_count": 18
        }
      ]
    },
    {
      "cell_type": "code",
      "source": [
        "fruit_counts(test_4)"
      ],
      "metadata": {
        "colab": {
          "base_uri": "https://localhost:8080/"
        },
        "id": "P05aMQ5VYEcx",
        "outputId": "8b3c27f4-30b5-432e-adce-3a907ee405e0"
      },
      "execution_count": 19,
      "outputs": [
        {
          "output_type": "stream",
          "name": "stdout",
          "text": [
            "Warning! 1 isn't str\n"
          ]
        },
        {
          "output_type": "execute_result",
          "data": {
            "text/plain": [
              "11.0"
            ]
          },
          "metadata": {},
          "execution_count": 19
        }
      ]
    },
    {
      "cell_type": "code",
      "source": [
        "fruit_counts(test_5)"
      ],
      "metadata": {
        "colab": {
          "base_uri": "https://localhost:8080/"
        },
        "id": "GmZdxejmYMt2",
        "outputId": "0944074d-580a-466d-8a4d-f36fbb8d6f8d"
      },
      "execution_count": 22,
      "outputs": [
        {
          "output_type": "stream",
          "name": "stdout",
          "text": [
            "Warning! Negative number detected for apple         (-1) \n",
            "Warning! Negative number detected for pineapple         (-4) \n"
          ]
        },
        {
          "output_type": "execute_result",
          "data": {
            "text/plain": [
              "7.0"
            ]
          },
          "metadata": {},
          "execution_count": 22
        }
      ]
    },
    {
      "cell_type": "code",
      "source": [
        "fruit_counts(test_6)"
      ],
      "metadata": {
        "colab": {
          "base_uri": "https://localhost:8080/"
        },
        "id": "FEz0AZmxYMyq",
        "outputId": "a337d480-976a-4e31-87bf-2985bfb9798f"
      },
      "execution_count": 23,
      "outputs": [
        {
          "output_type": "stream",
          "name": "stdout",
          "text": [
            "Warning! Input dict is empty\n"
          ]
        },
        {
          "output_type": "execute_result",
          "data": {
            "text/plain": [
              "0.0"
            ]
          },
          "metadata": {},
          "execution_count": 23
        }
      ]
    },
    {
      "cell_type": "code",
      "source": [
        "fruit_counts()"
      ],
      "metadata": {
        "colab": {
          "base_uri": "https://localhost:8080/"
        },
        "id": "GtubzWiQbRmO",
        "outputId": "8273b524-86eb-4e12-ac46-d1a30cc0196e"
      },
      "execution_count": 34,
      "outputs": [
        {
          "output_type": "stream",
          "name": "stdout",
          "text": [
            "Warning! Input dict is empty\n"
          ]
        },
        {
          "output_type": "execute_result",
          "data": {
            "text/plain": [
              "0.0"
            ]
          },
          "metadata": {},
          "execution_count": 34
        }
      ]
    },
    {
      "cell_type": "code",
      "source": [
        "# Вариант с kwargs\n",
        "def fruit_counts2(**fruits) -> float:\n",
        "  \"\"\"\n",
        "  На вход следует передавать словарь, ключами которого являются названия\n",
        "  фруктов, значениями - количество. В качестве количества принимается число\n",
        "  Пример входного словаря\n",
        "\n",
        "  {'apple': 3, 'pineapple': 4, 'orange': 7}\n",
        "\n",
        "  Словарь не должен содержать никаких других данных, кроме допустимых.\n",
        "  Не проверяется соответствие ключа реальному названию фрукта. Если в \n",
        "  качестве значения будет передан тип, отличный от числа, будет выполнена \n",
        "  попытка преобразования в число, в случае неуспеха выведено предупреждение, \n",
        "  а запись проигнорирована.\n",
        "  Отрицательные числа не будут учитываться в подсчёте - запись будет \n",
        "  проигнорирована с предупреждением. \n",
        "  \"\"\"\n",
        "\n",
        "  cnt: float = 0.0\n",
        "\n",
        "  if len(fruits) == 0:\n",
        "    print(\"Warning! Input dict is empty\")\n",
        "    return cnt\n",
        "\n",
        "  for  fruit in fruits:\n",
        "    # Проверим на валидность ключа\n",
        "    if not isinstance(fruit, str):\n",
        "      print(f\"Warning! {fruit} isn't str\")\n",
        "      continue\n",
        "    # Проверим валидность переданного значения  \n",
        "    # if isinstance(fruits[fruit], int | float):\n",
        "    if isinstance(fruits[fruit], int) or \\\n",
        "       isinstance(fruits[fruit], float):\n",
        "      if fruits[fruit] < 0:  # Строго менше, т.к. ноль будет обработан нормально\n",
        "        print(f'Warning! Negative number detected for {fruit} \\\n",
        "        ({fruits[fruit]}) ')\n",
        "        continue\n",
        "      cnt += fruits[fruit]\n",
        "\n",
        "    else:\n",
        "      # print(f'Trying to convert value {fruits[fruit]} to float')\n",
        "      try:\n",
        "        cnt += float(fruits[fruit])\n",
        "      except ValueError:\n",
        "        print(f'Warning! Can not convert {fruits[fruit]} to float')\n",
        "        continue\n",
        "      \n",
        "  return cnt"
      ],
      "metadata": {
        "id": "JlObffbVYYgK"
      },
      "execution_count": 25,
      "outputs": []
    },
    {
      "cell_type": "code",
      "source": [
        "test_1 = {'apple': 3, 'pineapple': 4, 'orange': 7}\n",
        "test_2 = {'apple': 0, 'pineapple': 0, 'orange': 0}\n",
        "test_3 = {'apple': 'one', 'pineapple': 'two', 'orange': '7'}\n",
        "test_4 = {1: 'apple', 'pineapple': 4, 'orange': 7}\n",
        "test_5 = {'apple': -1, 'pineapple': -4, 'orange': 7}\n",
        "test_6 = {}\n"
      ],
      "metadata": {
        "id": "traQ5mxPYjE2"
      },
      "execution_count": null,
      "outputs": []
    },
    {
      "cell_type": "code",
      "source": [
        "fruit_counts2(apple=9.4, pineapple=4, orange=1, others=5)"
      ],
      "metadata": {
        "colab": {
          "base_uri": "https://localhost:8080/"
        },
        "outputId": "34e4be6f-c669-4fa7-985a-81908e1aef51",
        "id": "tIGP-lOuYjE2"
      },
      "execution_count": 27,
      "outputs": [
        {
          "output_type": "execute_result",
          "data": {
            "text/plain": [
              "19.4"
            ]
          },
          "metadata": {},
          "execution_count": 27
        }
      ]
    },
    {
      "cell_type": "code",
      "source": [
        "fruit_counts2(apple=0, pineapple=0, orange=0, others=0)"
      ],
      "metadata": {
        "colab": {
          "base_uri": "https://localhost:8080/"
        },
        "outputId": "64cc5b45-7ea1-46ff-d09f-1eec20f0c827",
        "id": "PMON0hiZYjE2"
      },
      "execution_count": 28,
      "outputs": [
        {
          "output_type": "execute_result",
          "data": {
            "text/plain": [
              "0.0"
            ]
          },
          "metadata": {},
          "execution_count": 28
        }
      ]
    },
    {
      "cell_type": "code",
      "source": [
        "fruit_counts2(apple='9.4', pineapple='4', orange='one', others='ten')"
      ],
      "metadata": {
        "colab": {
          "base_uri": "https://localhost:8080/"
        },
        "outputId": "a8852272-9456-4fcc-e0bc-a20788f1b0e4",
        "id": "HOEZXCW8YjE2"
      },
      "execution_count": 29,
      "outputs": [
        {
          "output_type": "stream",
          "name": "stdout",
          "text": [
            "Warning! Can not convert one to float\n",
            "Warning! Can not convert ten to float\n"
          ]
        },
        {
          "output_type": "execute_result",
          "data": {
            "text/plain": [
              "13.4"
            ]
          },
          "metadata": {},
          "execution_count": 29
        }
      ]
    },
    {
      "cell_type": "code",
      "source": [
        "# Эта проверка не сможет быть запущена здесь\n",
        "fruit_counts2(1=9.4, pineapple=4, orange=1, others=5)"
      ],
      "metadata": {
        "colab": {
          "base_uri": "https://localhost:8080/",
          "height": 136
        },
        "outputId": "ffcb687b-300d-4630-bae0-cfa7eeb56336",
        "id": "1JE4XCw-YjE2"
      },
      "execution_count": 30,
      "outputs": [
        {
          "output_type": "error",
          "ename": "SyntaxError",
          "evalue": "ignored",
          "traceback": [
            "\u001b[0;36m  File \u001b[0;32m\"<ipython-input-30-31607dac9456>\"\u001b[0;36m, line \u001b[0;32m1\u001b[0m\n\u001b[0;31m    fruit_counts2(1=9.4, pineapple=4, orange=1, others=5)\u001b[0m\n\u001b[0m                  ^\u001b[0m\n\u001b[0;31mSyntaxError\u001b[0m\u001b[0;31m:\u001b[0m expression cannot contain assignment, perhaps you meant \"==\"?\n"
          ]
        }
      ]
    },
    {
      "cell_type": "code",
      "source": [
        "fruit_counts2(apple=-9.4, pineapple=-0, orange=1, others=5)"
      ],
      "metadata": {
        "colab": {
          "base_uri": "https://localhost:8080/"
        },
        "outputId": "2989b796-c5eb-423a-d5fb-1ee69db0f83b",
        "id": "CAN4faG0YjE3"
      },
      "execution_count": 31,
      "outputs": [
        {
          "output_type": "stream",
          "name": "stdout",
          "text": [
            "Warning! Negative number detected for apple         (-9.4) \n"
          ]
        },
        {
          "output_type": "execute_result",
          "data": {
            "text/plain": [
              "6.0"
            ]
          },
          "metadata": {},
          "execution_count": 31
        }
      ]
    },
    {
      "cell_type": "code",
      "source": [
        "fruit_counts2()"
      ],
      "metadata": {
        "colab": {
          "base_uri": "https://localhost:8080/"
        },
        "outputId": "5889586c-fc74-40f5-8655-a90be37a7509",
        "id": "RALUs8vYYjE3"
      },
      "execution_count": 36,
      "outputs": [
        {
          "output_type": "stream",
          "name": "stdout",
          "text": [
            "Warning! Input dict is empty\n"
          ]
        },
        {
          "output_type": "execute_result",
          "data": {
            "text/plain": [
              "0.0"
            ]
          },
          "metadata": {},
          "execution_count": 36
        }
      ]
    },
    {
      "cell_type": "markdown",
      "source": [
        "<h2> Задача 3 </h2>\n",
        "<p>\n",
        "Дан список с затратами на рекламу. Но в данных есть ошибки, некоторые затраты имеют отрицательную величину. Удалите такие значения из списка и посчитайте суммарные затраты <br />\n",
        "<code>\n",
        "[100, 125, -90, 345, 655, -1, 0, 200]\n",
        "</code><br />\n",
        "Используйте list comprehensions\n",
        "</p>"
      ],
      "metadata": {
        "id": "bV5wv5HkJdwq"
      }
    },
    {
      "cell_type": "code",
      "source": [
        "src = [100, 125, -90, 345, 655, -1, 0, 200]"
      ],
      "metadata": {
        "id": "eMBqZtrHbbI1"
      },
      "execution_count": 37,
      "outputs": []
    },
    {
      "cell_type": "code",
      "source": [
        "sum([x for x in src if x >= 0])"
      ],
      "metadata": {
        "colab": {
          "base_uri": "https://localhost:8080/"
        },
        "id": "RVyMiugnbfiM",
        "outputId": "9e6a616c-8d20-4d6c-b904-3bf18c22e783"
      },
      "execution_count": 39,
      "outputs": [
        {
          "output_type": "execute_result",
          "data": {
            "text/plain": [
              "1425"
            ]
          },
          "metadata": {},
          "execution_count": 39
        }
      ]
    },
    {
      "cell_type": "markdown",
      "source": [
        "<h2> Задача 4 </h2>\n",
        "<p>\n",
        "Даны два списка.\n",
        "Дата покупки <br />\n",
        "<code>\n",
        "['2021-09-14', '2021-12-15', '2021-09-08', '2021-12-05', '2021-10-09', '2021-09-30', '2021-12-22', '2021-11-29', '2021-12-24', '2021-11-26', '2021-10-27', '2021-12-18', '2021-11-09', '2021-11-23', '2021-09-27', '2021-10-02', '2021-12-27', '2021-09-20', '2021-12-13', '2021-11-01', '2021-11-09', '2021-12-06', '2021-12-08', '2021-10-09', '2021-10-31', '2021-09-30', '2021-11-09', '2021-12-13', '2021-10-26', '2021-12-09']\n",
        "</code><br />\n",
        "Суммы покупок по датам <br />\n",
        "<code>\n",
        "[1270, 8413, 9028, 3703, 5739, 4095, 295, 4944, 5723, 3701, 4471, 651, 7037, 4274, 6275, 4988, 6930, 2971, 6592, 2004, 2822, 519, 3406, 2732, 5015, 2008, 316, 6333, 5700, 2887]\n",
        "</code>\n",
        "</p>\n",
        "<h3>4.1 Найдите, какая выручка у компании в ноябре</h3>\n",
        "<p>\n",
        "Используйте list comprehensions\n",
        "</p>\n",
        "<h3>4.2 Найдите выручку компании в зависимости от месяца</h3>\n",
        "<p>\n",
        "Для этого напишите функцию, которая на вход принимает список с датами и список с выручкой, а на выходе словарь, где ключи - это месяцы, а значения - это выручка.\n",
        "Используйте аннотирование типов.\n",
        "</p>"
      ],
      "metadata": {
        "id": "WWyMjPbdJd34"
      }
    },
    {
      "cell_type": "code",
      "source": [
        "src_date = ['2021-09-14', '2021-12-15', '2021-09-08', '2021-12-05', \n",
        "            '2021-10-09', '2021-09-30', '2021-12-22', '2021-11-29', \n",
        "            '2021-12-24', '2021-11-26', '2021-10-27', '2021-12-18', \n",
        "            '2021-11-09', '2021-11-23', '2021-09-27', '2021-10-02', \n",
        "            '2021-12-27', '2021-09-20', '2021-12-13', '2021-11-01', \n",
        "            '2021-11-09', '2021-12-06', '2021-12-08', '2021-10-09', \n",
        "            '2021-10-31', '2021-09-30', '2021-11-09', '2021-12-13', \n",
        "            '2021-10-26', '2021-12-09']\n",
        "src_amount = [1270, 8413, 9028, 3703, 5739, 4095, 295, 4944, 5723, 3701, 4471, \n",
        "              651, 7037, 4274, 6275, 4988, 6930, 2971, 6592, 2004, 2822, 519, \n",
        "              3406, 2732, 5015, 2008, 316, 6333, 5700, 2887]"
      ],
      "metadata": {
        "id": "EN7XJKJ6ci1S"
      },
      "execution_count": 59,
      "outputs": []
    },
    {
      "cell_type": "code",
      "source": [
        "assert len(src_date) == len(src_amount)"
      ],
      "metadata": {
        "id": "O4Z_7V8Gci_-"
      },
      "execution_count": 45,
      "outputs": []
    },
    {
      "cell_type": "code",
      "source": [
        "# Выполняем 4.1, исходя из предположения, что формат даты всегда: \n",
        "# yyyy-mm-dd\n",
        "\n",
        "'2021-09-14'.split('-')[1]"
      ],
      "metadata": {
        "colab": {
          "base_uri": "https://localhost:8080/",
          "height": 36
        },
        "id": "miqX90sMeyzS",
        "outputId": "c657edad-f7e9-4af2-8989-e47cb30cf215"
      },
      "execution_count": 47,
      "outputs": [
        {
          "output_type": "execute_result",
          "data": {
            "text/plain": [
              "'09'"
            ],
            "application/vnd.google.colaboratory.intrinsic+json": {
              "type": "string"
            }
          },
          "metadata": {},
          "execution_count": 47
        }
      ]
    },
    {
      "cell_type": "code",
      "source": [
        "sum([\n",
        "    am for i, am in enumerate(src_amount) \n",
        "    if src_date[i].split('-')[1] == '11'\n",
        "])"
      ],
      "metadata": {
        "colab": {
          "base_uri": "https://localhost:8080/"
        },
        "id": "nEs1Zk5GfG9y",
        "outputId": "5bd2ad06-eb33-4f51-c829-0afa8d25a0b4"
      },
      "execution_count": 50,
      "outputs": [
        {
          "output_type": "execute_result",
          "data": {
            "text/plain": [
              "25098"
            ]
          },
          "metadata": {},
          "execution_count": 50
        }
      ]
    },
    {
      "cell_type": "code",
      "source": [
        "# Выполняем 4.2\n",
        "import re  # Только для проверки соответствия формата даты\n",
        "\n",
        "date_pattern = r\"(19|20)\\d\\d([- /.])(0[1-9]|1[012])\\2(0[1-9]|[12][0-9]|3[01])\"\n",
        "\n",
        "def calc(dates: list, amounts: list) -> dict:\n",
        "  \"\"\"\n",
        "  Функция принимает на вход два списка: список дат, каждый элемент списка\n",
        "  должен быть строкой формата \"YYYY-MM-DD\" и список чисел.\n",
        "  Списки должны иметь одинаковую длину.\n",
        "  В случае, если были переданы отличные от требуемых форматов данные, \n",
        "  будет выведено исключение TypeError. В случае, если длины списков не равны,\n",
        "  будет выведена ошибка.\n",
        "\n",
        "  Будет выполнена проверка формата входных данных. В случае, если формат \n",
        "  не будет соблюдён, будет выведена ошибка.\n",
        "\n",
        "  Пример входа\n",
        "  calc(\n",
        "      dates=['2001-01-01', '2001-02-01'],\n",
        "      amounts=[2133, 6326])\n",
        "\n",
        "  Условились, что даты должны иметь один и тот же год.\n",
        "  \"\"\"\n",
        "  \n",
        "  # Проверка типа входных данных\n",
        "  if not isinstance(dates, list):\n",
        "    raise TypeError('Only list for dates')\n",
        "  if not isinstance(dates, list):\n",
        "    raise TypeError('Only list for amounts')\n",
        "  # Проверка длины входных данных\n",
        "  if len(dates) != len(amounts):\n",
        "    # raise Exception('Length of dates and amounts is not equals')\n",
        "    return {'message':'Error in src lengthes'}\n",
        "\n",
        "  # Проверка типа вложенных данных для списка дат\n",
        "  if len(re.findall(date_pattern, ' '.join(dates))) != len(dates):\n",
        "    # raise Exception('Error in input data (dates)')\n",
        "    return {'message':'Error in dates'}\n",
        "  # Проверка типа вложенных данных для списка сумм\n",
        "  try:\n",
        "    amounts = [float(x) for x in amounts]\n",
        "  except ValueError:\n",
        "    print('Error in input data (amounts)')\n",
        "    return {'message':'Error in amounts'}\n",
        "  \n",
        "  res = dict()\n",
        "\n",
        "  for i, amount in enumerate(amounts):\n",
        "    month: str = dates[i].split('-')[1] \n",
        "    if month in res:\n",
        "      res[month] += amount\n",
        "    else:\n",
        "      res[month] = amount\n",
        "    \n",
        "  return res\n",
        "\n"
      ],
      "metadata": {
        "id": "C9SBZ1KtgSnX"
      },
      "execution_count": 94,
      "outputs": []
    },
    {
      "cell_type": "code",
      "source": [
        "calc(dates=src_date, amounts=src_amount)"
      ],
      "metadata": {
        "colab": {
          "base_uri": "https://localhost:8080/"
        },
        "id": "tOWUqsKZoFl2",
        "outputId": "f027bac3-f829-4dfb-b439-ef7740a0b051"
      },
      "execution_count": 76,
      "outputs": [
        {
          "output_type": "execute_result",
          "data": {
            "text/plain": [
              "{'09': 25647.0, '12': 45452.0, '10': 28645.0, '11': 25098.0}"
            ]
          },
          "metadata": {},
          "execution_count": 76
        }
      ]
    },
    {
      "cell_type": "code",
      "source": [
        "# Ошибка формата\n",
        "calc(dates=['2021-19-44', '2021-12-15', '2021-09-08'], amounts=[1,2,3])"
      ],
      "metadata": {
        "colab": {
          "base_uri": "https://localhost:8080/"
        },
        "id": "CfGLYagRjHcG",
        "outputId": "0f160b90-1da2-4e39-db1e-4897c29493f8"
      },
      "execution_count": 90,
      "outputs": [
        {
          "output_type": "execute_result",
          "data": {
            "text/plain": [
              "{'message': 'Error in dates'}"
            ]
          },
          "metadata": {},
          "execution_count": 90
        }
      ]
    },
    {
      "cell_type": "code",
      "source": [
        "# Несоответствие формата сумм\n",
        "calc(dates=['2021-12-14', '2021-12-15', '2021-09-08'], amounts=['one',2,3])"
      ],
      "metadata": {
        "colab": {
          "base_uri": "https://localhost:8080/"
        },
        "id": "o6g_aRSLsOP_",
        "outputId": "d5e43455-d7f1-48bc-c231-35f913cc053c"
      },
      "execution_count": 91,
      "outputs": [
        {
          "output_type": "stream",
          "name": "stdout",
          "text": [
            "Error in input data (amounts)\n"
          ]
        },
        {
          "output_type": "execute_result",
          "data": {
            "text/plain": [
              "{'message': 'Error in amounts'}"
            ]
          },
          "metadata": {},
          "execution_count": 91
        }
      ]
    },
    {
      "cell_type": "code",
      "source": [
        "# Несоответствие формата сумм исправляемое\n",
        "calc(dates=['2021-12-14', '2021-12-15', '2021-09-08'], amounts=['12',2,3])"
      ],
      "metadata": {
        "colab": {
          "base_uri": "https://localhost:8080/"
        },
        "id": "s89-u3ExtLW3",
        "outputId": "d37ef139-42a6-442b-9d27-19df2f6413e8"
      },
      "execution_count": 92,
      "outputs": [
        {
          "output_type": "execute_result",
          "data": {
            "text/plain": [
              "{'12': 14.0, '09': 3.0}"
            ]
          },
          "metadata": {},
          "execution_count": 92
        }
      ]
    },
    {
      "cell_type": "code",
      "source": [
        "# Несоответствие длин\n",
        "calc(dates=['2021-12-14', '2021-12-15', '2021-09-08'], amounts=[2,3])"
      ],
      "metadata": {
        "colab": {
          "base_uri": "https://localhost:8080/"
        },
        "id": "iBTITMIItPjB",
        "outputId": "c4cdf04e-91ef-4f58-8b4d-c4fd277c9d3b"
      },
      "execution_count": 95,
      "outputs": [
        {
          "output_type": "execute_result",
          "data": {
            "text/plain": [
              "{'message': 'Error in src lengthes'}"
            ]
          },
          "metadata": {},
          "execution_count": 95
        }
      ]
    }
  ]
}
{
  "nbformat": 4,
  "nbformat_minor": 0,
  "metadata": {
    "colab": {
      "provenance": [],
      "authorship_tag": "ABX9TyNZmg/2elPSEM4/76Pt+uEq",
      "include_colab_link": true
    },
    "kernelspec": {
      "name": "python3",
      "display_name": "Python 3"
    },
    "language_info": {
      "name": "python"
    }
  },
  "cells": [
    {
      "cell_type": "markdown",
      "metadata": {
        "id": "view-in-github",
        "colab_type": "text"
      },
      "source": [
        "<a href=\"https://colab.research.google.com/github/eridanletalis/gb_python_2/blob/main/hw_7_py.ipynb\" target=\"_parent\"><img src=\"https://colab.research.google.com/assets/colab-badge.svg\" alt=\"Open In Colab\"/></a>"
      ]
    },
    {
      "cell_type": "markdown",
      "source": [
        "<h2> Урок 7. Функции высшего порядка </h2>\n",
        "<h3> Семинар </h3>\n",
        "<h4> Задача 49<h4>"
      ],
      "metadata": {
        "id": "UfgcW7yPO5s2"
      }
    },
    {
      "cell_type": "code",
      "execution_count": 1,
      "metadata": {
        "id": "QT3ZT6mKWSU0"
      },
      "outputs": [],
      "source": [
        "orbits = [(1, 3), (2.5, 10), (7, 2), (6, 6), (4, 3)]"
      ]
    },
    {
      "cell_type": "code",
      "source": [
        "s = lambda a: 3.14159 * a[0] * a[1]"
      ],
      "metadata": {
        "id": "xEREnls1MI1p"
      },
      "execution_count": 10,
      "outputs": []
    },
    {
      "cell_type": "code",
      "source": [
        "orbit_f = list(filter(lambda a : a[1] != a[0], orbits))\n",
        "orbit_f"
      ],
      "metadata": {
        "colab": {
          "base_uri": "https://localhost:8080/"
        },
        "id": "BrgiBXm4NhR9",
        "outputId": "225ec3c0-0fff-4932-e2cb-426b2fd0673b"
      },
      "execution_count": 17,
      "outputs": [
        {
          "output_type": "execute_result",
          "data": {
            "text/plain": [
              "[(1, 3), (2.5, 10), (7, 2), (4, 3)]"
            ]
          },
          "metadata": {},
          "execution_count": 17
        }
      ]
    },
    {
      "cell_type": "code",
      "source": [
        "sq = sorted(list(map(s, orbit_f)))\n",
        "sq"
      ],
      "metadata": {
        "colab": {
          "base_uri": "https://localhost:8080/"
        },
        "id": "ZYK46_ZsMXob",
        "outputId": "48740efd-925d-45b3-dcb2-fc666c7d13f0"
      },
      "execution_count": 18,
      "outputs": [
        {
          "output_type": "execute_result",
          "data": {
            "text/plain": [
              "[9.424769999999999, 37.699079999999995, 43.98226, 78.53975]"
            ]
          },
          "metadata": {},
          "execution_count": 18
        }
      ]
    },
    {
      "cell_type": "code",
      "source": [
        "print(*list(filter(lambda a: s(a) == sq[-1], orbit_f))[0])"
      ],
      "metadata": {
        "colab": {
          "base_uri": "https://localhost:8080/"
        },
        "id": "cuYlRyT8Msr0",
        "outputId": "91de5a4a-4cac-45fa-a4b4-83d4c7b634bc"
      },
      "execution_count": 22,
      "outputs": [
        {
          "output_type": "stream",
          "name": "stdout",
          "text": [
            "2.5 10\n"
          ]
        }
      ]
    },
    {
      "cell_type": "code",
      "source": [
        "def find_farthest_orbit(orb):\n",
        "  \"\"\"\n",
        "  Сработает правильно, если среди всех переданных радиусов гарантированно есть\n",
        "  хотя бы один для эллипса, иначе вылетит с ошибкой\n",
        "  \"\"\"\n",
        "  s = lambda a: 3.14159 * a[0] * a[1]\n",
        "  orbit_f = list(filter(lambda a : a[1] != a[0], orb))\n",
        "  sq = sorted(list(map(s, orbit_f)))\n",
        "  return list(filter(lambda a: s(a) == sq[-1], orbit_f))[0]"
      ],
      "metadata": {
        "id": "LOSrz02CP0pS"
      },
      "execution_count": 23,
      "outputs": []
    },
    {
      "cell_type": "code",
      "source": [
        "print(*find_farthest_orbit(orbits))"
      ],
      "metadata": {
        "colab": {
          "base_uri": "https://localhost:8080/"
        },
        "id": "qWe0NHeJQTaw",
        "outputId": "33c39868-ee82-4643-a44a-e1ea2697639e"
      },
      "execution_count": 26,
      "outputs": [
        {
          "output_type": "stream",
          "name": "stdout",
          "text": [
            "2.5 10\n"
          ]
        }
      ]
    },
    {
      "cell_type": "markdown",
      "source": [
        "<h4>Задача 51</h4>"
      ],
      "metadata": {
        "id": "Wg3D28FWPTrQ"
      }
    },
    {
      "cell_type": "code",
      "source": [
        "char1 = lambda x: x % 2 == 0  # чётность\n",
        "char2 = lambda x: x >= 0  # неотрицательность\n",
        "char3 = lambda x: x != 0  # все значения ненулевые\n",
        "\n",
        "set1 = [1, 2, 3, 4, 5, 6]\n",
        "set2 = [0, 2, 4, 6, 8, -10]\n",
        "set3 = [0, 0, 0, 0, 0, 0]"
      ],
      "metadata": {
        "id": "i1-WH1DDPayG"
      },
      "execution_count": 29,
      "outputs": []
    },
    {
      "cell_type": "code",
      "source": [
        "def same_by(characteristic, objects):\n",
        "  return len(list(filter(characteristic, objects))) == len(objects) or len(objects) == 0"
      ],
      "metadata": {
        "id": "w5qT-dTmSbWK"
      },
      "execution_count": 30,
      "outputs": []
    },
    {
      "cell_type": "code",
      "source": [
        "print(same_by(char1, set1))\n",
        "print(same_by(char1, set2))\n",
        "print(same_by(char1, set3))"
      ],
      "metadata": {
        "colab": {
          "base_uri": "https://localhost:8080/"
        },
        "id": "O240KnIKSNpo",
        "outputId": "9ef23b66-d91b-451e-efe3-24e7dcbd6d51"
      },
      "execution_count": 34,
      "outputs": [
        {
          "output_type": "stream",
          "name": "stdout",
          "text": [
            "False\n",
            "True\n",
            "True\n"
          ]
        }
      ]
    },
    {
      "cell_type": "code",
      "source": [
        "print(same_by(char2, set1))\n",
        "print(same_by(char2, set2))\n",
        "print(same_by(char2, set3))"
      ],
      "metadata": {
        "colab": {
          "base_uri": "https://localhost:8080/"
        },
        "id": "FJ3CDn7sS0Vi",
        "outputId": "49396d29-73ec-4d10-c015-79d71f23efc7"
      },
      "execution_count": 35,
      "outputs": [
        {
          "output_type": "stream",
          "name": "stdout",
          "text": [
            "True\n",
            "False\n",
            "True\n"
          ]
        }
      ]
    },
    {
      "cell_type": "code",
      "source": [
        "print(same_by(char3, set1))\n",
        "print(same_by(char3, set2))\n",
        "print(same_by(char3, set3))"
      ],
      "metadata": {
        "colab": {
          "base_uri": "https://localhost:8080/"
        },
        "id": "DEEKWltWTNcX",
        "outputId": "8eb82b09-b1d4-411e-ea4a-8b59a1cc1f97"
      },
      "execution_count": 36,
      "outputs": [
        {
          "output_type": "stream",
          "name": "stdout",
          "text": [
            "True\n",
            "False\n",
            "False\n"
          ]
        }
      ]
    },
    {
      "cell_type": "markdown",
      "source": [
        "<h3>Домашняя работа</h3>\n",
        "<p>\n",
        "<strong>Задача 34</strong>: Винни-Пух попросил Вас посмотреть, есть ли в его стихах ритм. Поскольку разобраться в его кричалках не настолько просто, насколько легко он их придумывает, Вам стоит написать программу.\n",
        "Винни-Пух считает, что ритм есть, если число слогов (т.е. число гласных букв) в каждой фразе стихотворения одинаковое. Фраза может состоять из одного\n",
        "слова, если во фразе несколько слов, то они разделяются дефисами. Фразы отделяются друг от друга пробелами. Стихотворение Винни-Пух вбивает в программу с клавиатуры. <br />\n",
        "В ответе напишите “Парам пам-пам”, если с ритмом все в порядке и “Пам парам”, если с ритмом все не в порядке <br />\n",
        "Ввод: пара-ра-рам рам-пам-папам па-ра-па-дам <br />\n",
        "Вывод: Парам пам-пам\n",
        "</p>"
      ],
      "metadata": {
        "id": "uzZeh_dKTT0F"
      }
    },
    {
      "cell_type": "code",
      "source": [
        "VOWELS = ('а', 'у', 'е', 'ы', 'о', 'э', 'я', 'и', 'ю')"
      ],
      "metadata": {
        "id": "eOhCjFcqT5xK"
      },
      "execution_count": 51,
      "outputs": []
    },
    {
      "cell_type": "code",
      "source": [
        "test = 'пара-ра-рам рам-пам-папам па-ра-па-дам'\n",
        "test"
      ],
      "metadata": {
        "colab": {
          "base_uri": "https://localhost:8080/",
          "height": 36
        },
        "id": "tP0RUuEjU3LE",
        "outputId": "deb81ee9-65fa-4c4e-f7e0-8585aa6067bb"
      },
      "execution_count": 42,
      "outputs": [
        {
          "output_type": "execute_result",
          "data": {
            "text/plain": [
              "'пара-ра-рам рам-пам-папам па-ра-па-дам'"
            ],
            "application/vnd.google.colaboratory.intrinsic+json": {
              "type": "string"
            }
          },
          "metadata": {},
          "execution_count": 42
        }
      ]
    },
    {
      "cell_type": "code",
      "source": [
        "test = list(test.split(' '))\n",
        "test"
      ],
      "metadata": {
        "colab": {
          "base_uri": "https://localhost:8080/"
        },
        "id": "kFmh10g-VFEN",
        "outputId": "92a9fdbb-89fc-4a44-feea-8ae46dc5cc7e"
      },
      "execution_count": 43,
      "outputs": [
        {
          "output_type": "execute_result",
          "data": {
            "text/plain": [
              "['пара-ра-рам', 'рам-пам-папам', 'па-ра-па-дам']"
            ]
          },
          "metadata": {},
          "execution_count": 43
        }
      ]
    },
    {
      "cell_type": "code",
      "source": [
        "test1 = [len(list(filter(lambda x: x in VOWELS, sentence))) for sentence in test]\n",
        "test1"
      ],
      "metadata": {
        "colab": {
          "base_uri": "https://localhost:8080/"
        },
        "id": "cvfkUADQVX-e",
        "outputId": "b293b267-3be7-4aa9-ebfe-d44793db1ae8"
      },
      "execution_count": 48,
      "outputs": [
        {
          "output_type": "execute_result",
          "data": {
            "text/plain": [
              "[4, 4, 4]"
            ]
          },
          "metadata": {},
          "execution_count": 48
        }
      ]
    },
    {
      "cell_type": "code",
      "source": [
        "def cnt_equal(counts: list) -> bool:\n",
        "  if len(counts) == 1:\n",
        "    return True\n",
        "  if len(counts) == 2:\n",
        "    return counts[0] == counts[1]\n",
        "  s_counts = sorted(counts)\n",
        "\n",
        "  return s_counts[0] == s_counts[-1]"
      ],
      "metadata": {
        "id": "YECWggNXV3PO"
      },
      "execution_count": 53,
      "outputs": []
    },
    {
      "cell_type": "code",
      "source": [
        "cnt_equal(test1)"
      ],
      "metadata": {
        "colab": {
          "base_uri": "https://localhost:8080/"
        },
        "id": "ovU-DJ-wWHDL",
        "outputId": "f5932e62-6e6c-4292-f447-198b11c8c6d3"
      },
      "execution_count": 54,
      "outputs": [
        {
          "output_type": "execute_result",
          "data": {
            "text/plain": [
              "True"
            ]
          },
          "metadata": {},
          "execution_count": 54
        }
      ]
    },
    {
      "cell_type": "code",
      "source": [
        "def WINnysSentences(all_text: str) -> str:\n",
        "  VOWELS = ('а', 'у', 'е', 'ы', 'о', 'э', 'я', 'и', 'ю')\n",
        "  def cnt_equal(counts: list) -> bool:\n",
        "    if len(counts) == 1:\n",
        "      return True\n",
        "    if len(counts) == 2:\n",
        "      return counts[0] == counts[1]\n",
        "    s_counts = sorted(counts)\n",
        "    return s_counts[0] == s_counts[-1]\n",
        "\n",
        "  counts = [len(list(filter(lambda x: x in VOWELS, sentence))) for sentence\n",
        "            in list(all_text.split(' '))]\n",
        "  if cnt_equal(counts):\n",
        "    return 'Парам пам-пам'\n",
        "  return 'Пам парам'\n"
      ],
      "metadata": {
        "id": "1uEpeqlWXYlE"
      },
      "execution_count": 55,
      "outputs": []
    },
    {
      "cell_type": "code",
      "source": [
        "WINnysSentences('пара-ра-рам рам-пам-папам па-ра-па-дам')"
      ],
      "metadata": {
        "colab": {
          "base_uri": "https://localhost:8080/",
          "height": 36
        },
        "id": "w5lD-rQ5Yk7Q",
        "outputId": "3dd207b2-b9db-48e3-f8bf-dc978b3d333a"
      },
      "execution_count": 56,
      "outputs": [
        {
          "output_type": "execute_result",
          "data": {
            "text/plain": [
              "'Парам пам-пам'"
            ],
            "application/vnd.google.colaboratory.intrinsic+json": {
              "type": "string"
            }
          },
          "metadata": {},
          "execution_count": 56
        }
      ]
    },
    {
      "cell_type": "code",
      "source": [
        "WINnysSentences('пара-ра-рам')"
      ],
      "metadata": {
        "colab": {
          "base_uri": "https://localhost:8080/",
          "height": 36
        },
        "id": "mbaos3pNYrAy",
        "outputId": "1b08dfd0-f6fa-428e-947f-6ed3ba95696f"
      },
      "execution_count": 57,
      "outputs": [
        {
          "output_type": "execute_result",
          "data": {
            "text/plain": [
              "'Парам пам-пам'"
            ],
            "application/vnd.google.colaboratory.intrinsic+json": {
              "type": "string"
            }
          },
          "metadata": {},
          "execution_count": 57
        }
      ]
    },
    {
      "cell_type": "code",
      "source": [
        "WINnysSentences('пара-ра-рам рам-пам-папам')"
      ],
      "metadata": {
        "colab": {
          "base_uri": "https://localhost:8080/",
          "height": 36
        },
        "id": "_ZRKYF22YuCM",
        "outputId": "50006ab6-61f4-408a-8061-3670b43397b5"
      },
      "execution_count": 58,
      "outputs": [
        {
          "output_type": "execute_result",
          "data": {
            "text/plain": [
              "'Парам пам-пам'"
            ],
            "application/vnd.google.colaboratory.intrinsic+json": {
              "type": "string"
            }
          },
          "metadata": {},
          "execution_count": 58
        }
      ]
    },
    {
      "cell_type": "code",
      "source": [
        "WINnysSentences('пара-ра-рам рам-пам-папам-пам')"
      ],
      "metadata": {
        "colab": {
          "base_uri": "https://localhost:8080/",
          "height": 36
        },
        "id": "P266te7fYwnW",
        "outputId": "cf061061-9d75-4b1c-df5e-574cb41c922a"
      },
      "execution_count": 59,
      "outputs": [
        {
          "output_type": "execute_result",
          "data": {
            "text/plain": [
              "'Пам парам'"
            ],
            "application/vnd.google.colaboratory.intrinsic+json": {
              "type": "string"
            }
          },
          "metadata": {},
          "execution_count": 59
        }
      ]
    },
    {
      "cell_type": "code",
      "source": [
        "WINnysSentences('Пум-пурум-пурум-пурумпум рам-пам-пам рам-парам-парам-парампам рам-рам-пам')"
      ],
      "metadata": {
        "colab": {
          "base_uri": "https://localhost:8080/",
          "height": 36
        },
        "id": "LyE-SzYwYzpF",
        "outputId": "4d62d78e-1278-4fca-d38b-c28b75d604a4"
      },
      "execution_count": 61,
      "outputs": [
        {
          "output_type": "execute_result",
          "data": {
            "text/plain": [
              "'Пам парам'"
            ],
            "application/vnd.google.colaboratory.intrinsic+json": {
              "type": "string"
            }
          },
          "metadata": {},
          "execution_count": 61
        }
      ]
    },
    {
      "cell_type": "code",
      "source": [
        "WINnysSentences('Пум-пурум-пурум рам-пам-пам-трям-трям рам-парам-парам парампам-рам-пам')"
      ],
      "metadata": {
        "colab": {
          "base_uri": "https://localhost:8080/",
          "height": 36
        },
        "id": "QfxDENhRZBK_",
        "outputId": "27087915-4c5b-4ae5-846a-89e451206ca7"
      },
      "execution_count": 62,
      "outputs": [
        {
          "output_type": "execute_result",
          "data": {
            "text/plain": [
              "'Парам пам-пам'"
            ],
            "application/vnd.google.colaboratory.intrinsic+json": {
              "type": "string"
            }
          },
          "metadata": {},
          "execution_count": 62
        }
      ]
    },
    {
      "cell_type": "markdown",
      "source": [
        "<p><strong>Задача 36: </strong> Напишите функцию print_operation_table(operation, num_rows=6, num_columns=6),<br />\n",
        "которая принимает в качестве аргумента функцию, вычисляющую элемент по номеру строки и столбца. <br />\n",
        "Аргументы num_rows и num_columns указывают число строк и столбцов таблицы,\n",
        "которые должны быть распечатаны. Нумерация строк и столбцов идет с единицы (подумайте, почему не с нуля).<br />\n",
        " Примечание: бинарной операцией называется любая операция, у которой\n",
        "ровно два аргумента, как, например, у операции умножения\n",
        "</p>"
      ],
      "metadata": {
        "id": "Zd77AoF_ZL9q"
      }
    },
    {
      "cell_type": "code",
      "source": [
        "# от 1, возможно, потому что может быть деление на 0. Либо, потому что нулевые\n",
        "# значения семантически не верны для задачи (как в Excel, номер строки -\n",
        "# натуральное без нуля)"
      ],
      "metadata": {
        "id": "RlBWt97LZe4y"
      },
      "execution_count": null,
      "outputs": []
    },
    {
      "cell_type": "code",
      "source": [
        "operation1 = lambda x, y: x * y\n",
        "operation2 = lambda x, y: x / y\n",
        "operation3 = lambda x, y: x ** y\n",
        "operation4 = lambda x, y: x - y\n",
        "operation5 = lambda x, y: x ** (1 / y)"
      ],
      "metadata": {
        "id": "5WazBAz6hsYQ"
      },
      "execution_count": 69,
      "outputs": []
    },
    {
      "cell_type": "code",
      "source": [
        "for i in range(1,7):\n",
        "  print(*[operation1(i, j) for j in range(1,7)])"
      ],
      "metadata": {
        "colab": {
          "base_uri": "https://localhost:8080/"
        },
        "id": "nG19dH0rhzcx",
        "outputId": "61fc26d5-5562-49b4-ccbe-f1f86ec77487"
      },
      "execution_count": 66,
      "outputs": [
        {
          "output_type": "stream",
          "name": "stdout",
          "text": [
            "1 2 3 4 5 6\n",
            "2 4 6 8 10 12\n",
            "3 6 9 12 15 18\n",
            "4 8 12 16 20 24\n",
            "5 10 15 20 25 30\n",
            "6 12 18 24 30 36\n"
          ]
        }
      ]
    },
    {
      "cell_type": "code",
      "source": [
        "def print_operation_table(operation, num_rows=6, num_columns=6):\n",
        "  for i in range(1, num_rows + 1):\n",
        "    print(*[operation(i, j) for j in range(1, num_columns + 1)])\n"
      ],
      "metadata": {
        "id": "KKaX0P2hhzgR"
      },
      "execution_count": 67,
      "outputs": []
    },
    {
      "cell_type": "code",
      "source": [
        "print_operation_table(operation1)"
      ],
      "metadata": {
        "colab": {
          "base_uri": "https://localhost:8080/"
        },
        "id": "l3wiFmkdhzkX",
        "outputId": "0a379c8a-6394-441c-80cc-5817f992196a"
      },
      "execution_count": 68,
      "outputs": [
        {
          "output_type": "stream",
          "name": "stdout",
          "text": [
            "1 2 3 4 5 6\n",
            "2 4 6 8 10 12\n",
            "3 6 9 12 15 18\n",
            "4 8 12 16 20 24\n",
            "5 10 15 20 25 30\n",
            "6 12 18 24 30 36\n"
          ]
        }
      ]
    },
    {
      "cell_type": "code",
      "source": [
        "print_operation_table(operation2)"
      ],
      "metadata": {
        "colab": {
          "base_uri": "https://localhost:8080/"
        },
        "id": "WnvlFuo_i3Zu",
        "outputId": "6edeebcf-5e5b-41e7-91e6-0151147e3675"
      },
      "execution_count": 70,
      "outputs": [
        {
          "output_type": "stream",
          "name": "stdout",
          "text": [
            "1.0 0.5 0.3333333333333333 0.25 0.2 0.16666666666666666\n",
            "2.0 1.0 0.6666666666666666 0.5 0.4 0.3333333333333333\n",
            "3.0 1.5 1.0 0.75 0.6 0.5\n",
            "4.0 2.0 1.3333333333333333 1.0 0.8 0.6666666666666666\n",
            "5.0 2.5 1.6666666666666667 1.25 1.0 0.8333333333333334\n",
            "6.0 3.0 2.0 1.5 1.2 1.0\n"
          ]
        }
      ]
    },
    {
      "cell_type": "code",
      "source": [
        "print_operation_table(operation3)"
      ],
      "metadata": {
        "colab": {
          "base_uri": "https://localhost:8080/"
        },
        "id": "i-PhFlVyi505",
        "outputId": "de82deb3-356b-48b4-990b-e1535edae965"
      },
      "execution_count": 71,
      "outputs": [
        {
          "output_type": "stream",
          "name": "stdout",
          "text": [
            "1 1 1 1 1 1\n",
            "2 4 8 16 32 64\n",
            "3 9 27 81 243 729\n",
            "4 16 64 256 1024 4096\n",
            "5 25 125 625 3125 15625\n",
            "6 36 216 1296 7776 46656\n"
          ]
        }
      ]
    },
    {
      "cell_type": "code",
      "source": [
        "print_operation_table(operation4)"
      ],
      "metadata": {
        "colab": {
          "base_uri": "https://localhost:8080/"
        },
        "id": "xRchwPBbjAHh",
        "outputId": "17a6ba0e-d30d-417f-f3ac-cdd7c2f4c192"
      },
      "execution_count": 72,
      "outputs": [
        {
          "output_type": "stream",
          "name": "stdout",
          "text": [
            "0 -1 -2 -3 -4 -5\n",
            "1 0 -1 -2 -3 -4\n",
            "2 1 0 -1 -2 -3\n",
            "3 2 1 0 -1 -2\n",
            "4 3 2 1 0 -1\n",
            "5 4 3 2 1 0\n"
          ]
        }
      ]
    },
    {
      "cell_type": "code",
      "source": [
        "print_operation_table(operation5)"
      ],
      "metadata": {
        "colab": {
          "base_uri": "https://localhost:8080/"
        },
        "id": "N2mS7WpFjB37",
        "outputId": "0d0a9ce9-02df-458d-df6f-0c7268619150"
      },
      "execution_count": 73,
      "outputs": [
        {
          "output_type": "stream",
          "name": "stdout",
          "text": [
            "1.0 1.0 1.0 1.0 1.0 1.0\n",
            "2.0 1.4142135623730951 1.2599210498948732 1.189207115002721 1.148698354997035 1.122462048309373\n",
            "3.0 1.7320508075688772 1.4422495703074083 1.3160740129524924 1.2457309396155174 1.2009369551760027\n",
            "4.0 2.0 1.5874010519681994 1.4142135623730951 1.3195079107728942 1.2599210498948732\n",
            "5.0 2.23606797749979 1.7099759466766968 1.4953487812212205 1.379729661461215 1.3076604860118306\n",
            "6.0 2.449489742783178 1.8171205928321397 1.5650845800732873 1.4309690811052556 1.3480061545972777\n"
          ]
        }
      ]
    }
  ]
}
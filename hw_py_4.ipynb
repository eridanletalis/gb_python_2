{
  "nbformat": 4,
  "nbformat_minor": 0,
  "metadata": {
    "colab": {
      "provenance": [],
      "authorship_tag": "ABX9TyPqKYerBg3q47YLc1aQUTaa",
      "include_colab_link": true
    },
    "kernelspec": {
      "name": "python3",
      "display_name": "Python 3"
    },
    "language_info": {
      "name": "python"
    }
  },
  "cells": [
    {
      "cell_type": "markdown",
      "metadata": {
        "id": "view-in-github",
        "colab_type": "text"
      },
      "source": [
        "<a href=\"https://colab.research.google.com/github/eridanletalis/gb_python_2/blob/main/hw_py_4.ipynb\" target=\"_parent\"><img src=\"https://colab.research.google.com/assets/colab-badge.svg\" alt=\"Open In Colab\"/></a>"
      ]
    },
    {
      "cell_type": "markdown",
      "source": [
        "<h2>Урок 4. Словари, множества и профилирование</h2>\n",
        "\n",
        "1. Даны два неупорядоченных набора целых чисел (может быть, с повторениями). Выдать без повторений в порядке возрастания все те числа, которые встречаются в обоих наборах.\n",
        "Пользователь вводит 2 числа. n — кол-во элементов первого множества. m — кол-во элементов второго множества. Затем пользователь вводит сами элементы множеств.\n"
      ],
      "metadata": {
        "id": "-YvTADhfWXic"
      }
    },
    {
      "cell_type": "code",
      "execution_count": 1,
      "metadata": {
        "colab": {
          "base_uri": "https://localhost:8080/"
        },
        "id": "_cb3vsnNWVJ9",
        "outputId": "31278826-0626-44f4-9bbb-d7a0f40c4dd5"
      },
      "outputs": [
        {
          "name": "stdout",
          "output_type": "stream",
          "text": [
            "N=11\n",
            "M=6\n"
          ]
        }
      ],
      "source": [
        "n = int(input('N='))\n",
        "m = int(input('M='))"
      ]
    },
    {
      "cell_type": "code",
      "source": [
        "N = []\n",
        "M = []\n",
        "for i in range(0, n):\n",
        "  N.append(int(input(f'N[{i}]=')))\n",
        "\n",
        "for i in range(0, m):\n",
        "  M.append(int(input(f'M[{i}]=')))"
      ],
      "metadata": {
        "colab": {
          "base_uri": "https://localhost:8080/"
        },
        "id": "Mp37qah5XeTC",
        "outputId": "f9a081a6-32c5-490a-94f4-802d0cb86b20"
      },
      "execution_count": 3,
      "outputs": [
        {
          "name": "stdout",
          "output_type": "stream",
          "text": [
            "N[0]=2\n",
            "N[1]=4\n",
            "N[2]=6\n",
            "N[3]=8\n",
            "N[4]=10\n",
            "N[5]=12\n",
            "N[6]=10\n",
            "N[7]=8\n",
            "N[8]=6\n",
            "N[9]=4\n",
            "N[10]=2\n",
            "M[0]=3\n",
            "M[1]=6\n",
            "M[2]=9\n",
            "M[3]=12\n",
            "M[4]=15\n",
            "M[5]=18\n"
          ]
        }
      ]
    },
    {
      "cell_type": "code",
      "source": [
        "# методами списка. отдотипные элементы списка храняться отсортированными\n",
        "set(N).intersection(set(M))"
      ],
      "metadata": {
        "colab": {
          "base_uri": "https://localhost:8080/"
        },
        "id": "OYz2VsbDZVid",
        "outputId": "39395cf1-1bf1-4f5f-db22-82f426b2979b"
      },
      "execution_count": 6,
      "outputs": [
        {
          "output_type": "execute_result",
          "data": {
            "text/plain": [
              "{6, 12}"
            ]
          },
          "metadata": {},
          "execution_count": 6
        }
      ]
    },
    {
      "cell_type": "code",
      "source": [
        "# без списка\n",
        "result = []\n",
        "for i in N:\n",
        "  if i in M and i not in result:\n",
        "    result.append(i)\n",
        "\n",
        "print(sorted(result))"
      ],
      "metadata": {
        "colab": {
          "base_uri": "https://localhost:8080/"
        },
        "id": "6Blxl3Wsbq3U",
        "outputId": "4eb5b2a8-67b0-4748-d386-2484dc9d01b5"
      },
      "execution_count": 12,
      "outputs": [
        {
          "output_type": "stream",
          "name": "stdout",
          "text": [
            "[6, 12]\n"
          ]
        }
      ]
    },
    {
      "cell_type": "markdown",
      "source": [
        "2. В фермерском хозяйстве в Карелии выращивают чернику. Она растет на\n",
        "круглой грядке, причем кусты высажены только по окружности. Таким образом, у\n",
        "каждого куста есть ровно два соседних. Всего на грядке растет N кустов.\n",
        "Эти кусты обладают разной урожайностью, поэтому ко времени сбора на них\n",
        "выросло различное число ягод – на i-ом кусте выросло ai ягод.\n",
        "В этом фермерском хозяйстве внедрена система автоматического сбора черники.\n",
        "Эта система состоит из управляющего модуля и нескольких собирающих модулей.\n",
        "Собирающий модуль за один заход, находясь непосредственно перед некоторым\n",
        "кустом, собирает ягоды с этого куста и с двух соседних с ним.\n",
        "Напишите программу для нахождения максимального числа ягод, которое может\n",
        "собрать за один заход собирающий модуль, находясь перед некоторым кустом\n",
        "заданной во входном файле грядки."
      ],
      "metadata": {
        "id": "fsjn0ucXc_vv"
      }
    },
    {
      "cell_type": "code",
      "source": [
        "n = int(input('N='))\n",
        "N = []\n",
        "for i in range(0, n):\n",
        "  N.append(int(input(f'N[{i}]=')))"
      ],
      "metadata": {
        "colab": {
          "base_uri": "https://localhost:8080/"
        },
        "id": "K8nupIjSdIem",
        "outputId": "255678ae-eeea-4909-c778-db91caf91983"
      },
      "execution_count": 13,
      "outputs": [
        {
          "name": "stdout",
          "output_type": "stream",
          "text": [
            "N=4\n",
            "N[0]=1\n",
            "N[1]=2\n",
            "N[2]=3\n",
            "N[3]=4\n"
          ]
        }
      ]
    },
    {
      "cell_type": "code",
      "source": [
        "max = 0\n",
        "for i in range(0, len(N)):\n",
        "  if i == 0:\n",
        "    cur = N[len(N) - 1] + N[0] + N[1]\n",
        "  elif i == len(N) - 1:\n",
        "    cur = N[0] + N[len(N) - 1] + N[len(N) - 2]\n",
        "  else:\n",
        "    cur = N[i-1] + N[i] + N[i+1]\n",
        "\n",
        "  if max < cur:\n",
        "    max = cur\n",
        "\n",
        "print(max)"
      ],
      "metadata": {
        "colab": {
          "base_uri": "https://localhost:8080/"
        },
        "id": "mnBlmlC5eipT",
        "outputId": "a001253c-d951-40d9-f08a-493367bd53ee"
      },
      "execution_count": 19,
      "outputs": [
        {
          "output_type": "stream",
          "name": "stdout",
          "text": [
            "9\n"
          ]
        }
      ]
    }
  ]
}